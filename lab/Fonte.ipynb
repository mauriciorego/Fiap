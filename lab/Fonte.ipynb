{
 "cells": [
  {
   "cell_type": "markdown",
   "metadata": {},
   "source": [
    "# Projeto Final de Avaliação Substitutiva"
   ]
  },
  {
   "cell_type": "markdown",
   "metadata": {},
   "source": [
    "### Proposta: “Avaliação de métodos de reconhecimento facial utilizando visão computacional”"
   ]
  },
  {
   "cell_type": "code",
   "execution_count": 1,
   "metadata": {},
   "outputs": [],
   "source": [
    "#bibliotecas\n",
    "import cv2\n",
    "import os\n",
    "import numpy as np\n",
    "import time"
   ]
  },
  {
   "cell_type": "markdown",
   "metadata": {},
   "source": [
    "#### Variáveis"
   ]
  },
  {
   "cell_type": "code",
   "execution_count": 2,
   "metadata": {},
   "outputs": [
    {
     "name": "stdout",
     "output_type": "stream",
     "text": [
      "EigenFaceRecognizer [ <face_EigenFaceRecognizer 0000019DD9FA4110> ]\n",
      "FisherFaceRecognizer[ <face_FisherFaceRecognizer 0000019DD2944EB0> ]\n",
      "LBPHFaceRecognizer  [ <face_LBPHFaceRecognizer 0000019DD2944ED0> ]\n"
     ]
    }
   ],
   "source": [
    "#Nome dos indivídios\n",
    "subjects = [\"\", \"Willian Bonner\", \"Tiago Leifert\", \"Cesar Tralli\" ]\n",
    "\n",
    "\n",
    "#Estrutura de Pastas\n",
    "FACE_DETECTOR_MODEL = '../model/lbpcascade_frontalface.xml'\n",
    "PATH_TRAINING_DATA  = '../dataset/training'\n",
    "PATH_RESULT_DATA    = '../dataset/result'\n",
    "PATH_TEST_DATA      = '../dataset/test'\n",
    "\n",
    "\n",
    "#Redimensionamento das Imagens\n",
    "IMAGE_WIDTH         = 500\n",
    "IMAGE_HEIGTH        = 400\n",
    "\n",
    "\n",
    "#Modelo de Reconhecimento\n",
    "recognizer_eigen  = cv2.face.EigenFaceRecognizer_create()\n",
    "recognizer_fisher = cv2.face.FisherFaceRecognizer_create()\n",
    "recognizer_lbph   = cv2.face.LBPHFaceRecognizer_create()\n",
    "\n",
    "print( \"EigenFaceRecognizer [\", recognizer_eigen , \"]\" )\n",
    "print( \"FisherFaceRecognizer[\", recognizer_fisher, \"]\" )\n",
    "print( \"LBPHFaceRecognizer  [\", recognizer_lbph,   \"]\" )"
   ]
  },
  {
   "cell_type": "markdown",
   "metadata": {},
   "source": [
    "#### Detecção das faces e normalizando-as em escala de cinza"
   ]
  },
  {
   "cell_type": "code",
   "execution_count": 3,
   "metadata": {},
   "outputs": [],
   "source": [
    "def detect_face(img):\n",
    "    gray = cv2.cvtColor(img, cv2.COLOR_BGR2GRAY)\n",
    "    \n",
    "    face_cascade = cv2.CascadeClassifier( FACE_DETECTOR_MODEL )\n",
    "\n",
    "    faces = face_cascade.detectMultiScale(gray, scaleFactor=1.2, minNeighbors=5);\n",
    "    \n",
    "    if (len(faces) == 0):\n",
    "        return None, None\n",
    "    \n",
    "    (x, y, w, h) = faces[0]\n",
    "    \n",
    "    return gray[y:y+w, x:x+h], faces[0]"
   ]
  },
  {
   "cell_type": "markdown",
   "metadata": {},
   "source": [
    "#### Preparando os dados para treinamento (captura das faces)"
   ]
  },
  {
   "cell_type": "code",
   "execution_count": 4,
   "metadata": {},
   "outputs": [],
   "source": [
    "def prepare_training_data(data_folder_path):\n",
    "    \n",
    "    dirs = os.listdir(data_folder_path)\n",
    "    \n",
    "    faces = []\n",
    "    labels = []\n",
    "    \n",
    "    for dir_name in dirs:\n",
    "\n",
    "        cv2.destroyAllWindows()\n",
    "        \n",
    "        label = int( dir_name )\n",
    "        \n",
    "        subject_dir_path = data_folder_path + \"/\" + dir_name\n",
    "    \n",
    "        subject_images_names = os.listdir(subject_dir_path)\n",
    "        \n",
    "        for image_name in subject_images_names:\n",
    "            \n",
    "            if image_name.startswith(\".\"):\n",
    "                continue;\n",
    "            \n",
    "            image_path = subject_dir_path + \"/\" + image_name\n",
    "\n",
    "            image = cv2.imread(image_path)\n",
    "            image = cv2.resize(image, (IMAGE_WIDTH, IMAGE_HEIGTH) )\n",
    "\n",
    "            cv2.imshow( ( \"Treinando - \" + subjects[label] ), cv2.resize(image, (IMAGE_WIDTH, IMAGE_HEIGTH)))\n",
    "            \n",
    "            subjects\n",
    "            cv2.waitKey(100)\n",
    "            \n",
    "            face, rect = detect_face(image)\n",
    "            \n",
    "            if face is not None:\n",
    "                \n",
    "                face = cv2.resize( face, (IMAGE_WIDTH, IMAGE_HEIGTH))\n",
    "                \n",
    "                faces.append( face )\n",
    "                labels.append( label )\n",
    "            \n",
    "    cv2.destroyAllWindows()\n",
    "    cv2.waitKey(1)\n",
    "    cv2.destroyAllWindows()\n",
    "    \n",
    "    \n",
    "    \n",
    "    return faces, labels"
   ]
  },
  {
   "cell_type": "code",
   "execution_count": 5,
   "metadata": {},
   "outputs": [
    {
     "name": "stdout",
     "output_type": "stream",
     "text": [
      "Total faces [ 79 ]\n",
      "Total labels[ 79 ]\n"
     ]
    }
   ],
   "source": [
    "faces, labels = prepare_training_data( PATH_TRAINING_DATA )\n",
    "print(\"Total faces [\", len(faces),  ']' )\n",
    "print(\"Total labels[\", len(labels), ']' )"
   ]
  },
  {
   "cell_type": "code",
   "execution_count": 6,
   "metadata": {},
   "outputs": [],
   "source": [
    "#Treinamento\n",
    "recognizer_eigen.train(faces, np.array(labels))\n",
    "recognizer_fisher.train(faces, np.array(labels))\n",
    "recognizer_lbph.train(faces, np.array(labels))"
   ]
  },
  {
   "cell_type": "code",
   "execution_count": 7,
   "metadata": {},
   "outputs": [],
   "source": [
    "def draw_rectangle(img, rect):\n",
    "    (x, y, w, h) = rect\n",
    "    cv2.rectangle(img, (x, y), (x+w, y+h), (0, 255, 0), 2)\n",
    "    \n",
    "def draw_text(img, text, x, y):\n",
    "    cv2.putText(img, text, (x, y), cv2.FONT_HERSHEY_PLAIN, 1.5, (0, 255, 0), 2)\n"
   ]
  },
  {
   "cell_type": "code",
   "execution_count": 8,
   "metadata": {},
   "outputs": [],
   "source": [
    "def predict(test_img, face_recognizer):\n",
    "    \n",
    "    img = test_img.copy()\n",
    "    face, rect = detect_face(img)\n",
    "    \n",
    "    face = cv2.resize( face, (IMAGE_WIDTH, IMAGE_HEIGTH))\n",
    "    \n",
    "    label, confidence = face_recognizer.predict(face)\n",
    "    label_text = subjects[label]\n",
    "    \n",
    "    draw_rectangle(img, rect)\n",
    "    draw_text(img, label_text, rect[0], rect[1]-5)\n",
    "\n",
    "    return img, label_text, confidence"
   ]
  },
  {
   "cell_type": "code",
   "execution_count": 9,
   "metadata": {},
   "outputs": [],
   "source": [
    "def save_image_result( directory, image, image_name, people_name, accuracy ):\n",
    "    \n",
    "    try:\n",
    "        image_result = image.copy()\n",
    "\n",
    "        cv2.putText( image_result, people_name,(50,50), cv2.FONT_HERSHEY_COMPLEX_SMALL, 2, (0,0,255), 2, cv2.LINE_AA )\n",
    "        cv2.putText( image_result, str( accuracy ),(100,100), cv2.FONT_HERSHEY_COMPLEX_SMALL, 2, (255,255,255), 2, cv2.LINE_AA )\n",
    "\n",
    "        cv2.imwrite( directory + \"/\" + image_name , image_result )\n",
    "    except:\n",
    "        print(\"Erro em salvar a imagem\")"
   ]
  },
  {
   "cell_type": "code",
   "execution_count": 10,
   "metadata": {},
   "outputs": [
    {
     "name": "stdout",
     "output_type": "stream",
     "text": [
      "Erro recognizer_lbph OpenCV(3.4.2) C:\\projects\\opencv-python\\opencv\\modules\\imgproc\\src\\resize.cpp:4044: error: (-215:Assertion failed) !ssize.empty() in function 'cv::resize'\n",
      "\n",
      "Erro recognizer_eigen OpenCV(3.4.2) C:\\projects\\opencv-python\\opencv\\modules\\imgproc\\src\\resize.cpp:4044: error: (-215:Assertion failed) !ssize.empty() in function 'cv::resize'\n",
      "\n",
      "Erro recognizer_fisher OpenCV(3.4.2) C:\\projects\\opencv-python\\opencv\\modules\\imgproc\\src\\resize.cpp:4044: error: (-215:Assertion failed) !ssize.empty() in function 'cv::resize'\n",
      "\n",
      "Erro recognizer_lbph OpenCV(3.4.2) C:\\projects\\opencv-python\\opencv\\modules\\imgproc\\src\\resize.cpp:4044: error: (-215:Assertion failed) !ssize.empty() in function 'cv::resize'\n",
      "\n",
      "Erro recognizer_eigen OpenCV(3.4.2) C:\\projects\\opencv-python\\opencv\\modules\\imgproc\\src\\resize.cpp:4044: error: (-215:Assertion failed) !ssize.empty() in function 'cv::resize'\n",
      "\n",
      "Erro recognizer_fisher OpenCV(3.4.2) C:\\projects\\opencv-python\\opencv\\modules\\imgproc\\src\\resize.cpp:4044: error: (-215:Assertion failed) !ssize.empty() in function 'cv::resize'\n",
      "\n",
      "Erro recognizer_lbph OpenCV(3.4.2) C:\\projects\\opencv-python\\opencv\\modules\\imgproc\\src\\resize.cpp:4044: error: (-215:Assertion failed) !ssize.empty() in function 'cv::resize'\n",
      "\n",
      "Erro recognizer_eigen OpenCV(3.4.2) C:\\projects\\opencv-python\\opencv\\modules\\imgproc\\src\\resize.cpp:4044: error: (-215:Assertion failed) !ssize.empty() in function 'cv::resize'\n",
      "\n",
      "Erro recognizer_fisher OpenCV(3.4.2) C:\\projects\\opencv-python\\opencv\\modules\\imgproc\\src\\resize.cpp:4044: error: (-215:Assertion failed) !ssize.empty() in function 'cv::resize'\n",
      "\n",
      "Erro recognizer_lbph OpenCV(3.4.2) C:\\projects\\opencv-python\\opencv\\modules\\imgproc\\src\\resize.cpp:4044: error: (-215:Assertion failed) !ssize.empty() in function 'cv::resize'\n",
      "\n",
      "Erro recognizer_eigen OpenCV(3.4.2) C:\\projects\\opencv-python\\opencv\\modules\\imgproc\\src\\resize.cpp:4044: error: (-215:Assertion failed) !ssize.empty() in function 'cv::resize'\n",
      "\n",
      "Erro recognizer_fisher OpenCV(3.4.2) C:\\projects\\opencv-python\\opencv\\modules\\imgproc\\src\\resize.cpp:4044: error: (-215:Assertion failed) !ssize.empty() in function 'cv::resize'\n",
      "\n",
      "Erro recognizer_lbph OpenCV(3.4.2) C:\\projects\\opencv-python\\opencv\\modules\\imgproc\\src\\resize.cpp:4044: error: (-215:Assertion failed) !ssize.empty() in function 'cv::resize'\n",
      "\n",
      "Erro recognizer_eigen OpenCV(3.4.2) C:\\projects\\opencv-python\\opencv\\modules\\imgproc\\src\\resize.cpp:4044: error: (-215:Assertion failed) !ssize.empty() in function 'cv::resize'\n",
      "\n",
      "Erro recognizer_fisher OpenCV(3.4.2) C:\\projects\\opencv-python\\opencv\\modules\\imgproc\\src\\resize.cpp:4044: error: (-215:Assertion failed) !ssize.empty() in function 'cv::resize'\n",
      "\n",
      "Erro recognizer_lbph OpenCV(3.4.2) C:\\projects\\opencv-python\\opencv\\modules\\imgproc\\src\\resize.cpp:4044: error: (-215:Assertion failed) !ssize.empty() in function 'cv::resize'\n",
      "\n",
      "Erro recognizer_eigen OpenCV(3.4.2) C:\\projects\\opencv-python\\opencv\\modules\\imgproc\\src\\resize.cpp:4044: error: (-215:Assertion failed) !ssize.empty() in function 'cv::resize'\n",
      "\n",
      "Erro recognizer_fisher OpenCV(3.4.2) C:\\projects\\opencv-python\\opencv\\modules\\imgproc\\src\\resize.cpp:4044: error: (-215:Assertion failed) !ssize.empty() in function 'cv::resize'\n",
      "\n",
      "Erro recognizer_lbph OpenCV(3.4.2) C:\\projects\\opencv-python\\opencv\\modules\\imgproc\\src\\resize.cpp:4044: error: (-215:Assertion failed) !ssize.empty() in function 'cv::resize'\n",
      "\n",
      "Erro recognizer_eigen OpenCV(3.4.2) C:\\projects\\opencv-python\\opencv\\modules\\imgproc\\src\\resize.cpp:4044: error: (-215:Assertion failed) !ssize.empty() in function 'cv::resize'\n",
      "\n",
      "Erro recognizer_fisher OpenCV(3.4.2) C:\\projects\\opencv-python\\opencv\\modules\\imgproc\\src\\resize.cpp:4044: error: (-215:Assertion failed) !ssize.empty() in function 'cv::resize'\n",
      "\n",
      "Erro recognizer_lbph OpenCV(3.4.2) C:\\projects\\opencv-python\\opencv\\modules\\imgproc\\src\\resize.cpp:4044: error: (-215:Assertion failed) !ssize.empty() in function 'cv::resize'\n",
      "\n",
      "Erro recognizer_eigen OpenCV(3.4.2) C:\\projects\\opencv-python\\opencv\\modules\\imgproc\\src\\resize.cpp:4044: error: (-215:Assertion failed) !ssize.empty() in function 'cv::resize'\n",
      "\n",
      "Erro recognizer_fisher OpenCV(3.4.2) C:\\projects\\opencv-python\\opencv\\modules\\imgproc\\src\\resize.cpp:4044: error: (-215:Assertion failed) !ssize.empty() in function 'cv::resize'\n",
      "\n",
      "Erro recognizer_lbph OpenCV(3.4.2) C:\\projects\\opencv-python\\opencv\\modules\\imgproc\\src\\resize.cpp:4044: error: (-215:Assertion failed) !ssize.empty() in function 'cv::resize'\n",
      "\n",
      "Erro recognizer_eigen OpenCV(3.4.2) C:\\projects\\opencv-python\\opencv\\modules\\imgproc\\src\\resize.cpp:4044: error: (-215:Assertion failed) !ssize.empty() in function 'cv::resize'\n",
      "\n",
      "Erro recognizer_fisher OpenCV(3.4.2) C:\\projects\\opencv-python\\opencv\\modules\\imgproc\\src\\resize.cpp:4044: error: (-215:Assertion failed) !ssize.empty() in function 'cv::resize'\n",
      "\n",
      "Erro recognizer_lbph OpenCV(3.4.2) C:\\projects\\opencv-python\\opencv\\modules\\imgproc\\src\\resize.cpp:4044: error: (-215:Assertion failed) !ssize.empty() in function 'cv::resize'\n",
      "\n",
      "Erro recognizer_eigen OpenCV(3.4.2) C:\\projects\\opencv-python\\opencv\\modules\\imgproc\\src\\resize.cpp:4044: error: (-215:Assertion failed) !ssize.empty() in function 'cv::resize'\n",
      "\n",
      "Erro recognizer_fisher OpenCV(3.4.2) C:\\projects\\opencv-python\\opencv\\modules\\imgproc\\src\\resize.cpp:4044: error: (-215:Assertion failed) !ssize.empty() in function 'cv::resize'\n",
      "\n",
      "Erro recognizer_lbph OpenCV(3.4.2) C:\\projects\\opencv-python\\opencv\\modules\\imgproc\\src\\resize.cpp:4044: error: (-215:Assertion failed) !ssize.empty() in function 'cv::resize'\n",
      "\n",
      "Erro recognizer_eigen OpenCV(3.4.2) C:\\projects\\opencv-python\\opencv\\modules\\imgproc\\src\\resize.cpp:4044: error: (-215:Assertion failed) !ssize.empty() in function 'cv::resize'\n",
      "\n",
      "Erro recognizer_fisher OpenCV(3.4.2) C:\\projects\\opencv-python\\opencv\\modules\\imgproc\\src\\resize.cpp:4044: error: (-215:Assertion failed) !ssize.empty() in function 'cv::resize'\n",
      "\n",
      "Erro recognizer_lbph OpenCV(3.4.2) C:\\projects\\opencv-python\\opencv\\modules\\imgproc\\src\\resize.cpp:4044: error: (-215:Assertion failed) !ssize.empty() in function 'cv::resize'\n",
      "\n",
      "Erro recognizer_eigen OpenCV(3.4.2) C:\\projects\\opencv-python\\opencv\\modules\\imgproc\\src\\resize.cpp:4044: error: (-215:Assertion failed) !ssize.empty() in function 'cv::resize'\n",
      "\n",
      "Erro recognizer_fisher OpenCV(3.4.2) C:\\projects\\opencv-python\\opencv\\modules\\imgproc\\src\\resize.cpp:4044: error: (-215:Assertion failed) !ssize.empty() in function 'cv::resize'\n",
      "\n",
      "Erro recognizer_lbph OpenCV(3.4.2) C:\\projects\\opencv-python\\opencv\\modules\\imgproc\\src\\resize.cpp:4044: error: (-215:Assertion failed) !ssize.empty() in function 'cv::resize'\n",
      "\n",
      "Erro recognizer_eigen OpenCV(3.4.2) C:\\projects\\opencv-python\\opencv\\modules\\imgproc\\src\\resize.cpp:4044: error: (-215:Assertion failed) !ssize.empty() in function 'cv::resize'\n",
      "\n",
      "Erro recognizer_fisher OpenCV(3.4.2) C:\\projects\\opencv-python\\opencv\\modules\\imgproc\\src\\resize.cpp:4044: error: (-215:Assertion failed) !ssize.empty() in function 'cv::resize'\n",
      "\n",
      "Erro recognizer_lbph OpenCV(3.4.2) C:\\projects\\opencv-python\\opencv\\modules\\imgproc\\src\\resize.cpp:4044: error: (-215:Assertion failed) !ssize.empty() in function 'cv::resize'\n",
      "\n",
      "Erro recognizer_eigen OpenCV(3.4.2) C:\\projects\\opencv-python\\opencv\\modules\\imgproc\\src\\resize.cpp:4044: error: (-215:Assertion failed) !ssize.empty() in function 'cv::resize'\n",
      "\n",
      "Erro recognizer_fisher OpenCV(3.4.2) C:\\projects\\opencv-python\\opencv\\modules\\imgproc\\src\\resize.cpp:4044: error: (-215:Assertion failed) !ssize.empty() in function 'cv::resize'\n",
      "\n",
      "Erro recognizer_lbph OpenCV(3.4.2) C:\\projects\\opencv-python\\opencv\\modules\\imgproc\\src\\resize.cpp:4044: error: (-215:Assertion failed) !ssize.empty() in function 'cv::resize'\n",
      "\n",
      "Erro recognizer_eigen OpenCV(3.4.2) C:\\projects\\opencv-python\\opencv\\modules\\imgproc\\src\\resize.cpp:4044: error: (-215:Assertion failed) !ssize.empty() in function 'cv::resize'\n",
      "\n",
      "Erro recognizer_fisher OpenCV(3.4.2) C:\\projects\\opencv-python\\opencv\\modules\\imgproc\\src\\resize.cpp:4044: error: (-215:Assertion failed) !ssize.empty() in function 'cv::resize'\n",
      "\n",
      "Erro recognizer_lbph OpenCV(3.4.2) C:\\projects\\opencv-python\\opencv\\modules\\imgproc\\src\\resize.cpp:4044: error: (-215:Assertion failed) !ssize.empty() in function 'cv::resize'\n",
      "\n"
     ]
    },
    {
     "name": "stdout",
     "output_type": "stream",
     "text": [
      "Erro recognizer_eigen OpenCV(3.4.2) C:\\projects\\opencv-python\\opencv\\modules\\imgproc\\src\\resize.cpp:4044: error: (-215:Assertion failed) !ssize.empty() in function 'cv::resize'\n",
      "\n",
      "Erro recognizer_fisher OpenCV(3.4.2) C:\\projects\\opencv-python\\opencv\\modules\\imgproc\\src\\resize.cpp:4044: error: (-215:Assertion failed) !ssize.empty() in function 'cv::resize'\n",
      "\n"
     ]
    }
   ],
   "source": [
    "#Testes\n",
    "images_test = os.listdir( PATH_TEST_DATA )\n",
    "        \n",
    "for image_name in images_test:\n",
    "    img_test = cv2.imread( PATH_TEST_DATA + \"/\" + image_name )\n",
    "\n",
    "    img_test = cv2.resize( img_test, (IMAGE_WIDTH, IMAGE_HEIGTH) )\n",
    "    \n",
    "    try:\n",
    "        ( predicted, name, accuracy ) = predict( img_test, recognizer_lbph )\n",
    "        save_image_result( PATH_RESULT_DATA + \"/\" + \"LBPHFaceRecognizer\", img_test, image_name, name, accuracy )\n",
    "    except Exception as e:\n",
    "        print(\"Erro recognizer_lbph\", e )\n",
    "    \n",
    "    try:\n",
    "        ( predicted, name, accuracy ) = predict( img_test, recognizer_eigen )\n",
    "        save_image_result( PATH_RESULT_DATA + \"/\" + \"EigenFaceRecognizer\", img_test, image_name, name, accuracy )\n",
    "    except Exception as e:\n",
    "        print(\"Erro recognizer_eigen\", e)\n",
    "    \n",
    "    try:\n",
    "        ( predicted, name, accuracy ) = predict( img_test, recognizer_fisher )\n",
    "        save_image_result( PATH_RESULT_DATA + \"/\" + \"FisherFaceRecognizer\", img_test, image_name, name, accuracy )\n",
    "    except Exception as e:\n",
    "        print(\"Erro recognizer_fisher\", e)"
   ]
  },
  {
   "cell_type": "code",
   "execution_count": null,
   "metadata": {},
   "outputs": [],
   "source": []
  },
  {
   "cell_type": "code",
   "execution_count": null,
   "metadata": {},
   "outputs": [],
   "source": []
  },
  {
   "cell_type": "code",
   "execution_count": null,
   "metadata": {},
   "outputs": [],
   "source": []
  },
  {
   "cell_type": "code",
   "execution_count": null,
   "metadata": {},
   "outputs": [],
   "source": []
  },
  {
   "cell_type": "code",
   "execution_count": null,
   "metadata": {},
   "outputs": [],
   "source": []
  }
 ],
 "metadata": {
  "kernelspec": {
   "display_name": "Python 3",
   "language": "python",
   "name": "python3"
  },
  "language_info": {
   "codemirror_mode": {
    "name": "ipython",
    "version": 3
   },
   "file_extension": ".py",
   "mimetype": "text/x-python",
   "name": "python",
   "nbconvert_exporter": "python",
   "pygments_lexer": "ipython3",
   "version": "3.7.3"
  }
 },
 "nbformat": 4,
 "nbformat_minor": 2
}
